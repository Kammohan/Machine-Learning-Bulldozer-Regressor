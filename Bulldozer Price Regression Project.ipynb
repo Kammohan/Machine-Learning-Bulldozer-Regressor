{
 "cells": [
  {
   "cell_type": "markdown",
   "id": "4d9f0c67-d3ea-43de-9879-22523315fce9",
   "metadata": {},
   "source": [
    "# Predicting the Sale Price of Bulldozers using Machine learning\n",
    "\n",
    "In this notebook, we're going to go through a machine learning project with the goal of predicting the sale price of bulldozers.\n",
    "\n",
    "## 1. Problem Definition\n",
    "> How well can we predict the future sales price of a bulldozer, given its characteristics and previous examples of how much similar bulldozer has been sold for?\n",
    "\n",
    "## 2.Data\n",
    "The data is downloaded from the Kaggle Bluebook for Bulldozers Competition : https://www.kaggle.com/c/bluebook-for-bulldozers/data\n",
    "\n",
    "There are 3 main datasets:\n",
    "\n",
    "* Train.csv is the training set, which contains data through the end of 2011.\n",
    "* Valid.csv is the validation set, which contains data from January 1, 2012 - April 30, 2012 You make predictions on this set throughout the majority of the competition. Your score on this set is used to create the public leaderboard.\n",
    "* Test.csv is the test set, which won't be released until the last week of the competition. It contains data from May 1, 2012 - November 2012. Your score on the test set determines your final rank for the competition.\n",
    "\n",
    "## 3.Evaluation\n",
    "\n",
    "> The evaluation metric for this competition is the RMSLE (root mean squared log error) between the actual and predicted auction prices.\n",
    "\n",
    "For more on the evaluation of this project please check:\n",
    "https://www.kaggle.com/c/bluebook-for-bulldozers/overview\n",
    "\n",
    "Note: The goal for most regression evaluation metrics is to minimize the error. For example, our goal for this project will be to buid a machine learning model which minimises RMSLE.\n",
    "\n",
    "## 4. Features\n",
    "Kaggle provides a data dictionary detailing all the features of the dataset. You can view the data dictionary that I will be using with the link provided below: https://docs.google.com/spreadsheets/d/1RE2LTLYxxB70hVjMATphwtGcidmqQFiz2FVEBYqEsmE/edit?usp=sharing\n"
   ]
  },
  {
   "cell_type": "code",
   "execution_count": 1,
   "id": "71a90fe6-e58b-49a6-8be6-bceeb1e516eb",
   "metadata": {},
   "outputs": [],
   "source": [
    "import numpy as np\n",
    "import pandas as pd\n",
    "import matplotlib.pyplot as plt\n",
    "import sklearn"
   ]
  }
 ],
 "metadata": {
  "kernelspec": {
   "display_name": "Python 3 (ipykernel)",
   "language": "python",
   "name": "python3"
  },
  "language_info": {
   "codemirror_mode": {
    "name": "ipython",
    "version": 3
   },
   "file_extension": ".py",
   "mimetype": "text/x-python",
   "name": "python",
   "nbconvert_exporter": "python",
   "pygments_lexer": "ipython3",
   "version": "3.12.3"
  }
 },
 "nbformat": 4,
 "nbformat_minor": 5
}
